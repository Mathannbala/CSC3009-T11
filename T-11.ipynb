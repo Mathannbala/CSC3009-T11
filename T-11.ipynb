{
  "cells": [
    {
      "cell_type": "markdown",
      "metadata": {
        "id": "gNthvOr1xaR7"
      },
      "source": [
        "![](https://raw.githubusercontent.com/UGS-CS/CSC3009/master/mashead.svg)"
      ]
    },
    {
      "cell_type": "markdown",
      "metadata": {
        "id": "SB3lugreyieO"
      },
      "source": [
        "# <center>**Group Project T11**</center>"
      ]
    },
    {
      "cell_type": "markdown",
      "metadata": {
        "id": "mxeTHVm7CaMy"
      },
      "source": [
        "## **Project Setup**\n",
        "\n"
      ]
    },
    {
      "cell_type": "code",
      "execution_count": null,
      "metadata": {},
      "outputs": [],
      "source": [
        "from google.colab import drive\n",
        "drive.mount('/content/drive')"
      ]
    },
    {
      "cell_type": "markdown",
      "metadata": {
        "id": "Q8Vx3ugnCmFn"
      },
      "source": [
        "Import libraries and settings"
      ]
    },
    {
      "cell_type": "code",
      "execution_count": 4,
      "metadata": {
        "id": "FLgP4h8eCiQw"
      },
      "outputs": [],
      "source": [
        "# Data Manipulation\n",
        "import numpy as np\n",
        "import pandas as pd\n",
        "\n",
        "# Data preprocessing\n",
        "from sklearn.model_selection import train_test_split\n",
        "from sklearn.preprocessing import LabelBinarizer\n",
        "from sklearn.utils import shuffle\n",
        "from PIL import Image, ImageEnhance\n",
        "\n",
        "\n",
        "# For Data Visualization\n",
        "import matplotlib.pyplot as plt\n",
        "import seaborn as sns\n",
        "%matplotlib inline\n",
        "\n",
        "#Data Evaluation\n",
        "from sklearn.metrics import confusion_matrix\n",
        "from sklearn.metrics import classification_report\n",
        "\n",
        "# For ML Models\n",
        "from tensorflow.keras.applications import MobileNet, Xception, VGG16, EfficientNetB4, inception_v3, DenseNet201, ResNet50\n",
        "import tensorflow as tf\n",
        "from tensorflow import keras\n",
        "from tensorflow.keras.layers import *\n",
        "from tensorflow.keras.losses import *\n",
        "from tensorflow.keras.preprocessing.image import *\n",
        "from tensorflow.keras.models import *\n",
        "from tensorflow.keras.metrics import *\n",
        "from tensorflow.keras.optimizers import Adam\n",
        "from tensorflow.keras.optimizers import *\n",
        "from tensorflow.keras.applications import *\n",
        "from tensorflow.keras.callbacks import EarlyStopping, ModelCheckpoint\n",
        "\n",
        "# Miscellaneous\n",
        "from tqdm import tqdm\n",
        "import os\n",
        "import random\n",
        "import pickle\n",
        "import shutil\n",
        "import zipfile\n"
      ]
    },
    {
      "cell_type": "markdown",
      "metadata": {
        "id": "arf_LK4Lw_WH"
      },
      "source": [
        "Setting up project directories"
      ]
    },
    {
      "cell_type": "code",
      "execution_count": 5,
      "metadata": {
        "colab": {
          "base_uri": "https://localhost:8080/",
          "height": 433
        },
        "id": "oTLAtSSmxEMk",
        "outputId": "9a6134e9-12db-4c3b-dea9-78c92e7c4f47"
      },
      "outputs": [
        {
          "data": {
            "image/png": "[encoded data removed]",
            "text/plain": [
              "<Figure size 640x480 with 1 Axes>"
            ]
          },
          "metadata": {},
          "output_type": "display_data"
        }
      ],
      "source": [
        "# unzip the file\n",
        "zip_file_path = '/content/drive/MyDrive/brain_mri/dataset_11.zip'\n",
        "dest_dir = '/content/drive/MyDrive/brain_mri'\n",
        "\n",
        "with zipfile.ZipFile(zip_file_path, 'r') as zip_ref:\n",
        "    zip_ref.extractall(dest_dir)\n",
        "\n",
        "print(f'Unzipped files to {dest_dir}')\n",
        "\n",
        "# set the paths of train and test directories\n",
        "original_dataset_dir = '/content/drive/MyDrive/brain_mri/dataset_11'\n",
        "base_dir = '/content/drive/MyDrive/brain_mri/'\n",
        "\n",
        "# Define the train and test directories\n",
        "train_dir = os.path.join(base_dir, 'Training')\n",
        "test_dir = os.path.join(base_dir, 'Testing')\n",
        "\n",
        "# Create the train and test directories\n",
        "os.makedirs(train_dir, exist_ok=True)\n",
        "os.makedirs(test_dir, exist_ok=True)\n",
        "\n",
        "# Define the categories\n",
        "categories = ['glioma', 'meningioma', 'notumor', 'pituitary']\n",
        "\n",
        "# Create subdirectories for each category in train and test directories\n",
        "for category in categories:\n",
        "    os.makedirs(os.path.join(train_dir, category), exist_ok=True)\n",
        "    os.makedirs(os.path.join(test_dir, category), exist_ok=True)\n",
        "\n",
        "# Set the split ratio, 80% for training, 20% for testing\n",
        "split_ratio = 0.8  \n",
        "\n",
        "# Function to split data\n",
        "def split_data(category, split_ratio):\n",
        "    category_path = os.path.join(original_dataset_dir, category)\n",
        "    images = os.listdir(category_path)\n",
        "    random.shuffle(images)\n",
        "    split_point = int(len(images) * split_ratio)\n",
        "    \n",
        "    train_images = images[:split_point]\n",
        "    test_images = images[split_point:]\n",
        "    \n",
        "    for image in train_images:\n",
        "        src = os.path.join(category_path, image)\n",
        "        dst = os.path.join(train_dir, category, image)\n",
        "        shutil.copyfile(src, dst)\n",
        "        \n",
        "    for image in test_images:\n",
        "        src = os.path.join(category_path, image)\n",
        "        dst = os.path.join(test_dir, category, image)\n",
        "        shutil.copyfile(src, dst)\n",
        "\n",
        "# Split data for each category\n",
        "for category in categories:\n",
        "    split_data(category, split_ratio)\n",
        "\n",
        "print(\"Data split into training and testing sets successfully.\")\n",
        "\n",
        "image_data_paths = r\"/content/drive/MyDrive/brain_mri/\"\n",
        "train_dir = os.path.join(image_data_paths,\"Training\")\n",
        "test_dir = os.path.join(image_data_paths,\"Testing\")\n",
        "\n",
        "# print total number of data in train and test directories\n",
        "train_data = shuffle(read_dataset(train_dir))\n",
        "print(f'training image number: {len(train_data)}')\n",
        "\n",
        "test_data = read_dataset(test_dir)\n",
        "print(f'test image number: {len(test_data)}')"
      ]
    },
    {
      "cell_type": "code",
      "execution_count": null,
      "metadata": {},
      "outputs": [],
      "source": []
    },
    {
      "cell_type": "markdown",
      "metadata": {},
      "source": [
        "Reading the data"
      ]
    },
    {
      "cell_type": "code",
      "execution_count": null,
      "metadata": {},
      "outputs": [],
      "source": [
        "def read_dataset(data_path):\n",
        "    data = []\n",
        "\n",
        "    for label in os.listdir(data_path):\n",
        "        real_label = \"\"\n",
        "        if label in ['pituitary_tumor', 'pituitary']:\n",
        "            real_label = 'pituitary'\n",
        "        elif label in ['no_tumor', 'notumor']:\n",
        "            real_label = 'notumor'\n",
        "        elif label in ['meningioma', 'meningioma_tumor']:\n",
        "            real_label = 'meningioma'\n",
        "        elif label in ['glioma', 'glioma_tumor']:\n",
        "            real_label = 'glioma'\n",
        "        for image in os.listdir(os.path.join(data_path,label)):\n",
        "            data.append([os.path.join(data_path,label,image),real_label])\n",
        "\n",
        "    return data"
      ]
    },
    {
      "cell_type": "markdown",
      "metadata": {
        "id": "K2czeFjHCsmB"
      },
      "source": [
        "## **Data visualisation for each class**"
      ]
    },
    {
      "cell_type": "code",
      "execution_count": 6,
      "metadata": {
        "id": "hQZYp_P34egD"
      },
      "outputs": [],
      "source": [
        "def pie_chart(axis, data, title, colors, explode):\n",
        "    axis.pie(data.values(), labels=data.keys(), autopct='%1.1f%%', startangle=140, colors=colors, explode=explode)\n",
        "    axis.axis('equal')  \n",
        "    axis.set_title(title, weight='bold')\n",
        "\n",
        "fig, axes = plt.subplots(1, 2, figsize=(14, 6))\n",
        "\n",
        "# Plot for train_data\n",
        "label_counts_train = train_data['tumor_class'].value_counts().to_dict()\n",
        "total_count_train = sum(label_counts_train.values())\n",
        "label_percentages_train = {label: count / total_count_train * 100 for label, count in label_counts_train.items()}\n",
        "colors_train = ['lightgray', 'dimgray', 'slategrey', 'seagreen']\n",
        "explode_train = (0, 0, 0, 0.1)\n",
        "pie_chart(axes[0], label_percentages_train, 'Training Data Distribution', colors_train, explode_train)\n",
        "\n",
        "# Plot for test_data\n",
        "label_counts_test = test_data['tumor_class'].value_counts().to_dict()\n",
        "total_count_test = sum(label_counts_test.values())\n",
        "label_percentages_test = {label: count / total_count_test * 100 for label, count in label_counts_test.items()}\n",
        "colors_test = ['dimgray', 'seagreen', 'slategrey', 'lightgray']\n",
        "explode_test = (0, 0.1, 0, 0)\n",
        "pie_chart(axes[1], label_percentages_test, 'Testing Data Distribution', colors_test, explode_test)\n",
        "\n",
        "plt.tight_layout()\n",
        "plt.show()\n"
      ]
    },
    {
      "cell_type": "markdown",
      "metadata": {},
      "source": [
        "## **Data agumentation & Normalisation**"
      ]
    },
    {
      "cell_type": "markdown",
      "metadata": {},
      "source": [
        "1. create a smaller subset of the training data, splitting into training and validation sets"
      ]
    },
    {
      "cell_type": "code",
      "execution_count": 7,
      "metadata": {
        "id": "O3-OmvSB4oUi"
      },
      "outputs": [],
      "source": [
        "train_data, val_data = train_test_split(train_data,\n",
        "                                               train_size = 0.70,\n",
        "                                               random_state = 42,\n",
        "                                               stratify = train_data.tumor_class)\n",
        "\n",
        "print(train_data.shape),\n",
        "print(val_data.shape),\n",
        "print(test_data.shape)"
      ]
    },
    {
      "cell_type": "markdown",
      "metadata": {
        "id": "lUgezcSy4uJs"
      },
      "source": [
        "2. Perform data agumentation to improve the CNN's resilency by expanding the image dataset via flipping, adjusting brightness and etc\n",
        "3. Perform normalisation by rescalling training, training validation and test datasets to ensure the model is able to make predicitions on unseen data during the testing and validation steps."
      ]
    },
    {
      "cell_type": "code",
      "execution_count": 8,
      "metadata": {
        "id": "TqjBlbl44btV"
      },
      "outputs": [],
      "source": [
        "image_size = 128\n",
        "batch_size = 64\n",
        "\n",
        "train_image_datagen_kwargs = dict(rescale = 1 / 255,\n",
        "                                rotation_range = 15,\n",
        "                                width_shift_range = 0.1,\n",
        "                                zoom_range = 0.02,\n",
        "                                shear_range = 0.01,\n",
        "                                brightness_range = [0.3, 1.5],\n",
        "                                horizontal_flip = True,\n",
        "                                vertical_flip = True,\n",
        "                                fill_mode = \"nearest\"\n",
        "                                )\n",
        "\n",
        "test_image_datagen_kwargs = dict(rescale = 1 / 255)\n",
        "\n",
        "#With agumentation\n",
        "train_image_datagen = ImageDataGenerator(**train_image_datagen_kwargs)\n",
        "test_image_datagen = ImageDataGenerator(**test_image_datagen_kwargs)\n",
        "# Without agumentation\n",
        "val_image_datagen = ImageDataGenerator(**test_image_datagen_kwargs)\n",
        "\n",
        "train_dataset = train_image_datagen.flow_from_dataframe(train_data,\n",
        "                                                        x_col = 'image_filepaths',\n",
        "                                                        y_col = 'tumor_class',\n",
        "                                                        seed = 42,\n",
        "                                                        batch_size = batch_size,\n",
        "                                                        target_size = (image_size, image_size),\n",
        "                                                        color_mode = 'rgb')\n",
        "\n",
        "test_dataset = test_image_datagen.flow_from_dataframe(test_data,\n",
        "                                                      x_col = 'image_filepaths',\n",
        "                                                      y_col = 'tumor_class',\n",
        "                                                      seed = 42,\n",
        "                                                      shuffle=False,\n",
        "                                                      batch_size = batch_size,\n",
        "                                                      target_size = (image_size, image_size),\n",
        "                                                      color_mode = 'rgb')\n",
        "\n",
        "val_dataset = val_image_datagen.flow_from_dataframe(val_data,\n",
        "                                                        x_col = 'image_filepaths',\n",
        "                                                        y_col = 'tumor_class',\n",
        "                                                        seed = 42,\n",
        "                                                        shuffle=False,\n",
        "                                                        batch_size = batch_size,\n",
        "                                                        target_size = (image_size, image_size),\n",
        "                                                        color_mode = 'rgb')"
      ]
    },
    {
      "cell_type": "markdown",
      "metadata": {
        "id": "MmvtKGGY7M4Q"
      },
      "source": [
        "## **Developing the Model**"
      ]
    },
    {
      "cell_type": "markdown",
      "metadata": {
        "id": "2u_l15jz4tCX"
      },
      "source": [
        "1. Introducing early stopping to stop the training when no improvement is observed"
      ]
    },
    {
      "cell_type": "code",
      "execution_count": 9,
      "metadata": {
        "id": "z0yyTz_k9_jj"
      },
      "outputs": [],
      "source": [
        "early_stopping = EarlyStopping(monitor = 'val_categorical_accuracy', patience = 10)"
      ]
    },
    {
      "cell_type": "markdown",
      "metadata": {
        "id": "WmSEH4qr9wap"
      },
      "source": [
        "2. Defining a custom base model"
      ]
    },
    {
      "cell_type": "code",
      "execution_count": 10,
      "metadata": {
        "id": "mYQ_j35O_H9T"
      },
      "outputs": [],
      "source": [
        "def model_def(base_model):\n",
        "\n",
        "  # Set all layers to non-trainable\n",
        "  for layer in base_model.layers:\n",
        "      layer.trainable = False\n",
        "  # Set the last block to trainable for fine-tuning\n",
        "  base_model.layers[-2].trainable = True  \n",
        "  base_model.layers[-3].trainable = True\n",
        "  base_model.layers[-4].trainable = True\n",
        "\n",
        "  # build a custom model\n",
        "  model = Sequential()\n",
        "  model.add(Input(shape=(image_size,image_size,3)))\n",
        "  model.add(base_model) \n",
        "  model.add(Flatten())  #reshape the output to 1D vector\n",
        "  model.add(Dropout(0.3)) # To reduce overfitting, we add a dropout layer with a rate of 0.3.\n",
        "  model.add(Dense(128, activation='relu')) # Adds a fully connected layer with 128 units\n",
        "  model.add(Dropout(0.2)) # Add another dropout layer with a rate of 0.2\n",
        "  model.add(Dense(4, activation='sigmoid')) # Add a fully connected layer with 4 units and a sigmoid activation function\n",
        "\n",
        "  return model"
      ]
    },
    {
      "cell_type": "markdown",
      "metadata": {},
      "source": [
        "### MODEL 1: VGG16"
      ]
    },
    {
      "cell_type": "code",
      "execution_count": 11,
      "metadata": {
        "id": "vUNHrnE-_W_2"
      },
      "outputs": [],
      "source": [
        "model_vgg = model_def(VGG16(input_shape=(image_size,image_size,3), include_top=False, weights='imagenet'))\n",
        "model_vgg.summary()"
      ]
    },
    {
      "cell_type": "code",
      "execution_count": null,
      "metadata": {},
      "outputs": [],
      "source": [
        "keras.utils.plot_model(model_vgg, show_shapes=True)"
      ]
    },
    {
      "cell_type": "code",
      "execution_count": null,
      "metadata": {},
      "outputs": [],
      "source": [
        "#use ADAM optimizer and learning rate of 0.0001\n",
        "model_vgg.compile(optimizer=Adam(learning_rate=0.0001),\n",
        "             loss='categorical_crossentropy',\n",
        "             metrics=['categorical_accuracy'])\n",
        "\n",
        "# Set the checkpoint interval\n",
        "checkpoint_interval = 5 * int(np.ceil(train_data.shape[0]/batch_size)) \n",
        "# Set the checkpoint folder\n",
        "checkpoint_folder = r\"drive/MyDrive/brain_mri/Model-Checkpoints/vgg\"\n",
        "# Set the checkpoint path\n",
        "checkpoint_path = os.path.join(checkpoint_folder,r\"epocch_{epoch:02d}.hdf5\")\n",
        "\n",
        "model_vgg_checkpoint_callback = tf.keras.callbacks.ModelCheckpoint(\n",
        "    filepath=checkpoint_path,\n",
        "    save_weights_only=True,\n",
        "    monitor='categorical_accuracy',\n",
        "    verbose=1,\n",
        "    save_freq= checkpoint_interval\n",
        ")\n"
      ]
    },
    {
      "cell_type": "code",
      "execution_count": null,
      "metadata": {},
      "outputs": [],
      "source": [
        "%%time\n",
        "train_history_vgg = model_vgg.fit(train_dataset,\n",
        "                          batch_size = batch_size,\n",
        "                          validation_data = val_dataset,\n",
        "                          epochs = 50,\n",
        "                          callbacks = [early_stopping, model_vgg_checkpoint_callback])\n",
        "\n",
        "# Save the train history\n",
        "with open(os.path.join(checkpoint_folder,'train_history_vgg'), 'wb') as file_pi:\n",
        "    pickle.dump(train_history_vgg, file_pi)"
      ]
    },
    {
      "cell_type": "code",
      "execution_count": null,
      "metadata": {},
      "outputs": [],
      "source": [
        "# to load history from previous traines model\n",
        "with open(os.path.join(checkpoint_folder,'train_history_vgg'), 'rb') as file_pi:\n",
        "    train_history_vgg = pickle.load(file_pi)"
      ]
    },
    {
      "cell_type": "code",
      "execution_count": null,
      "metadata": {},
      "outputs": [],
      "source": [
        "# create subplots\n",
        "fig, axes = plt.subplots(1, 2, figsize=(14, 6))\n",
        "\n",
        "# plot catergorical accuracy and validation accuracy\n",
        "axes[0].grid(True)\n",
        "axes[0].plot(train_history_vgg.history['categorical_accuracy'], '.b-', linewidth=2, label='Categorical Accuracy')\n",
        "axes[0].plot(train_history_vgg.history['val_categorical_accuracy'], '.r-', linewidth=2, label='Validation Accuracy')\n",
        "axes[0].set_title('VVG16 Model Training History Accuracy')\n",
        "axes[0].set_xlabel('Epochs')\n",
        "axes[0].set_ylabel('Accuracy')\n",
        "axes[0].set_xticks(range(0,len(train_history_vgg.history['categorical_accuracy']),5))\n",
        "axes[0].legend(['Train','Validation'], loc='upper left')\n",
        "\n",
        "# plot Training loss and validation loss\n",
        "axes[1].grid(True)\n",
        "axes[1].plot(train_history_vgg.history['loss'], '.b-', label='Training Loss', linewidth=2)\n",
        "axes[1].plot(train_history_vgg.history['val_loss'], '.r-', label='Validation Loss', linewidth=2)\n",
        "axes[1].set_title('VVG16 Model Training and Validation Loss')\n",
        "axes[1].set_xlabel('Epochs')\n",
        "axes[1].set_ylabel('Loss')\n",
        "axes[1].set_xticks(range(0,len(train_history_vgg.history['loss']),5))\n",
        "axes[1].legend(['Train','Validation'], loc='upper left')\n",
        "\n",
        "plt.tight_layout()\n",
        "plt.show()\n"
      ]
    },
    {
      "cell_type": "code",
      "execution_count": null,
      "metadata": {},
      "outputs": [],
      "source": [
        "test_epoch = '15'\n",
        "weights_path = r\"drive/MyDrive/brain_mri/Model-Checkpoints/vgg/epocch_\"+test_epoch+\".hdf5\"\n",
        "model_vgg.load_weights(weights_path)\n",
        "\n",
        "# Evaluate VGG16 model on the test set\n",
        "evaluation_results_vgg = model_vgg.evaluate(test_dataset)\n",
        "\n",
        "# Print the evaluation results\n",
        "print(f'VGG16 model Test Loss: {evaluation_results_vgg[0]}')\n",
        "print(f'VGG16 model Test Accuracy: {evaluation_results_vgg[1]}')"
      ]
    },
    {
      "cell_type": "code",
      "execution_count": null,
      "metadata": {},
      "outputs": [],
      "source": [
        "# predict the test data\n",
        "y_pred = model_vgg.predict(test_dataset)"
      ]
    },
    {
      "cell_type": "code",
      "execution_count": null,
      "metadata": {},
      "outputs": [],
      "source": [
        "#create confusion matrix for VVG16 model\n",
        "categories_labels = ['glioma', 'meningioma', 'notumor', 'pituitary']\n",
        "\n",
        "#confusion matrix\n",
        "conf_matrix = confusion_matrix(test_dataset.labels, np.argmax(y_pred, axis=1))\n",
        "conf_matrix_data = np.array(conf_matrix)\n",
        "\n",
        "# plotting the matrix\n",
        "plt.figure(figsize=(8, 6))\n",
        "sns.heatmap(conf_matrix_data, annot=True, cmap='Blues', fmt='g', xticklabels=categories_labels, yticklabels=categories_labels)\n",
        "\n",
        "plt.xlabel('Predicted labels')\n",
        "plt.ylabel('True labels')\n",
        "plt.title('Confusion Matrix of VGG16 Model')\n",
        "plt.show()\n",
        "\n"
      ]
    },
    {
      "cell_type": "code",
      "execution_count": null,
      "metadata": {},
      "outputs": [],
      "source": [
        "# print classification report\n",
        "print(classification_report(test_dataset.labels, np.argmax(y_pred, axis=1), target_names=categories_labels))"
      ]
    },
    {
      "cell_type": "markdown",
      "metadata": {
        "id": "R8UiKeyyyjVC"
      },
      "source": [
        "### MODEL 2: EfficientNetB4 "
      ]
    },
    {
      "cell_type": "code",
      "execution_count": 13,
      "metadata": {
        "colab": {
          "base_uri": "https://localhost:8080/"
        },
        "id": "Jl4pzghEZvwu",
        "outputId": "21f10c3b-4594-4851-f3f6-7630b2140e29"
      },
      "outputs": [
        {
          "name": "stdout",
          "output_type": "stream",
          "text": [
            "Epoch 1/10, MSE: 0.5333333333333333\n",
            "Epoch 2/10, MSE: 0.3333333333333333\n",
            "Epoch 3/10, MSE: 0.7333333333333333\n",
            "Epoch 4/10, MSE: 0.26666666666666666\n",
            "Epoch 5/10, MSE: 0.26666666666666666\n",
            "Epoch 6/10, MSE: 0.6\n",
            "Epoch 7/10, MSE: 0.26666666666666666\n",
            "Epoch 8/10, MSE: 0.26666666666666666\n",
            "Epoch 9/10, MSE: 0.6666666666666666\n",
            "Epoch 10/10, MSE: 0.3333333333333333\n"
          ]
        }
      ],
      "source": [
        "model_efficientnet = model_def(EfficientNetB4(input_shape=(image_size,image_size,3), include_top=False, weights='imagenet'))\n",
        "model_efficientnet.summary()"
      ]
    },
    {
      "cell_type": "code",
      "execution_count": null,
      "metadata": {},
      "outputs": [],
      "source": [
        "keras.utils.plot_model(model_efficientnet, show_shapes=True)"
      ]
    },
    {
      "cell_type": "code",
      "execution_count": null,
      "metadata": {},
      "outputs": [],
      "source": [
        "model_efficientnet.compile(optimizer=Adam(learning_rate=0.0001),\n",
        "                loss='categorical_crossentropy',\n",
        "                metrics=['categorical_accuracy'])"
      ]
    },
    {
      "cell_type": "code",
      "execution_count": null,
      "metadata": {},
      "outputs": [],
      "source": [
        "checkpoint_interval = 5 * int(np.ceil(train_data.shape[0]/batch_size))\n",
        "checkpoint_path = r\"drive/MyDrive/brain_mri/Model-Checkpoints/efficientnet\"\n",
        "checkpoint_path = os.path.join(checkpoint_folder,r\"epocch_{epoch:02d}.hdf5\")\n",
        "\n",
        "model_efficientnet_checkpoint_callback = tf.keras.callbacks.ModelCheckpoint(\n",
        "    filepath=checkpoint_path,\n",
        "    save_weights_only=True,\n",
        "    monitor='categorical_accuracy',\n",
        "    verbose=1,\n",
        "    save_freq= checkpoint_interval\n",
        ")"
      ]
    },
    {
      "cell_type": "code",
      "execution_count": null,
      "metadata": {},
      "outputs": [],
      "source": [
        "%%time\n",
        "\n",
        "train_history_efficientnet = model_efficientnet.fit(train_dataset,\n",
        "                            batch_size = batch_size,\n",
        "                            validation_data = val_dataset,\n",
        "                            epochs = 50,\n",
        "                            callbacks = [early_stopping, model_efficientnet_checkpoint_callback])\n",
        "# save the train history\n",
        "with open(os.path.join(checkpoint_folder,'train_history_efficientnet'), 'wb') as file_pi:\n",
        "    pickle.dump(train_history_efficientnet, file_pi)"
      ]
    },
    {
      "cell_type": "code",
      "execution_count": null,
      "metadata": {},
      "outputs": [],
      "source": [
        "print(train_history_efficientnet.history.keys())"
      ]
    },
    {
      "cell_type": "code",
      "execution_count": null,
      "metadata": {},
      "outputs": [],
      "source": [
        "# load history from previous trained model\n",
        "with open(os.path.join(checkpoint_folder,'train_history_efficientnet'), 'rb') as file_pi:\n",
        "    train_history_efficientnet = pickle.load(file_pi)"
      ]
    },
    {
      "cell_type": "code",
      "execution_count": null,
      "metadata": {},
      "outputs": [],
      "source": [
        "# create subplots\n",
        "fig, axes = plt.subplots(1, 2, figsize=(14, 6))\n",
        "\n",
        "# plot categorical accuracy and validation accuracy\n",
        "axes[0].grid(True)\n",
        "axes[0].plot(train_history_efficientnet.history['categorical_accuracy'], '.b-', linewidth=2, label='Categorical Accuracy')\n",
        "axes[0].plot(train_history_efficientnet.history['val_categorical_accuracy'], '.r-', linewidth=2, label='Validation Accuracy')\n",
        "axes[0].set_title('EfficientNetB4 Model Training History Accuracy')\n",
        "axes[0].set_xlabel('Epochs')\n",
        "axes[0].set_ylabel('Accuracy')\n",
        "axes[0].set_xticks(range(0,len(train_history_efficientnet.history['categorical_accuracy']),5))\n",
        "axes[0].legend(['Train','Validation'], loc='upper left')\n",
        "\n",
        "# plot Training loss and validation loss\n",
        "axes[1].grid(True)\n",
        "axes[1].plot(train_history_efficientnet.history['loss'], '.b-', label='Training Loss', linewidth=2)\n",
        "axes[1].plot(train_history_efficientnet.history['val_loss'], '.r-', label='Validation Loss', linewidth=2)\n",
        "axes[1].set_title('EfficientNetB4 Model Training and Validation Loss')\n",
        "axes[1].set_xlabel('Epochs')\n",
        "axes[1].set_ylabel('Loss')\n",
        "axes[1].set_xticks(range(0,len(train_history_efficientnet.history['loss']),5))\n",
        "axes[1].legend(['Train','Validation'], loc='upper left')\n",
        "\n",
        "plt.tight_layout()\n",
        "plt.show()\n",
        "\n"
      ]
    },
    {
      "cell_type": "code",
      "execution_count": null,
      "metadata": {},
      "outputs": [],
      "source": [
        "test_epoch = '15'\n",
        "weights_path = r\"drive/MyDrive/brain_mri/Model-Checkpoints/efficientnet/epocch_\"+test_epoch+\".hdf5\"\n",
        "model_efficientnet.load_weights(weights_path)\n"
      ]
    },
    {
      "cell_type": "code",
      "execution_count": null,
      "metadata": {},
      "outputs": [],
      "source": [
        "# Evaluate EfficientNetB4 model on the test set\n",
        "evaluation_results_efficientnet = model_efficientnet.evaluate(test_dataset)\n",
        "\n",
        "# Print the evaluation results\n",
        "print(f'EfficientNetB4 model Test Loss: {evaluation_results_efficientnet[0]}')\n",
        "print(f'EfficientNetB4 model Test Accuracy: {evaluation_results_efficientnet[1]}')"
      ]
    },
    {
      "cell_type": "code",
      "execution_count": null,
      "metadata": {},
      "outputs": [],
      "source": [
        "# predict the test data\n",
        "y_pred = model_efficientnet.predict(test_dataset)"
      ]
    },
    {
      "cell_type": "code",
      "execution_count": null,
      "metadata": {},
      "outputs": [],
      "source": [
        "#create confusion matrix for EfficientNetB4 model\n",
        "categories_labels = ['glioma', 'meningioma', 'notumor', 'pituitary']\n",
        "\n",
        "#confusion matrix\n",
        "conf_matrix = confusion_matrix(test_dataset.labels, np.argmax(y_pred, axis=1))\n",
        "conf_matrix_data = np.array(conf_matrix)\n",
        "\n",
        "# plotting the matrix\n",
        "plt.figure(figsize=(8, 6))\n",
        "sns.heatmap(conf_matrix_data, annot=True, cmap='Blues', fmt='g', xticklabels=categories_labels, yticklabels=categories_labels)\n",
        "\n",
        "plt.xlabel('Predicted labels')\n",
        "plt.ylabel('True labels')\n",
        "plt.title('Confusion Matrix of EfficientNetB4 Model')\n",
        "plt.show()\n"
      ]
    },
    {
      "cell_type": "code",
      "execution_count": null,
      "metadata": {},
      "outputs": [],
      "source": [
        "# print classification report\n",
        "print(classification_report(test_dataset.labels, np.argmax(y_pred, axis=1), target_names=categories_labels))"
      ]
    },
    {
      "cell_type": "markdown",
      "metadata": {
        "id": "qzd0_bE5ScQn"
      },
      "source": [
        "## MODEL 3: Xception "
      ]
    },
    {
      "cell_type": "code",
      "execution_count": 14,
      "metadata": {
        "colab": {
          "base_uri": "https://localhost:8080/"
        },
        "id": "R4tRaFL1SlCD",
        "outputId": "7ca46628-5ede-4108-f69d-1de8e6e28359"
      },
      "outputs": [
        {
          "name": "stdout",
          "output_type": "stream",
          "text": [
            "Epoch 1/10, MSE: 0.3153070672736686\n",
            "Epoch 2/10, MSE: 0.24691124105155476\n",
            "Epoch 3/10, MSE: 0.45849052309776034\n",
            "Epoch 4/10, MSE: 0.2693353242689438\n",
            "Epoch 5/10, MSE: 0.23586059689737487\n",
            "Epoch 6/10, MSE: 0.331753607895466\n",
            "Epoch 7/10, MSE: 0.26326105030807745\n",
            "Epoch 8/10, MSE: 0.4093606175834446\n",
            "Epoch 9/10, MSE: 0.27041578267390004\n",
            "Epoch 10/10, MSE: 0.25791161934756557\n"
          ]
        }
      ],
      "source": [
        "model_xception = model_def(Xception(input_shape=(image_size,image_size,3), include_top=False, weights='imagenet'))\n",
        "model_xception.summary()"
      ]
    },
    {
      "cell_type": "code",
      "execution_count": 15,
      "metadata": {
        "colab": {
          "base_uri": "https://localhost:8080/"
        },
        "id": "7Nx0TwDOSk4Z",
        "outputId": "704a4b48-ccee-4e69-c609-2d052b05faa0"
      },
      "outputs": [
        {
          "name": "stdout",
          "output_type": "stream",
          "text": [
            "Epoch 1/10, MSE: 0.5159480863977284\n",
            "Epoch 2/10, MSE: 0.47797669584461766\n",
            "Epoch 3/10, MSE: 0.46835955877134494\n",
            "Epoch 4/10, MSE: 0.4593317828875094\n",
            "Epoch 5/10, MSE: 0.4506453467292958\n",
            "Epoch 6/10, MSE: 0.442285331300939\n",
            "Epoch 7/10, MSE: 0.4342392860427051\n",
            "Epoch 8/10, MSE: 0.4264952595792989\n",
            "Epoch 9/10, MSE: 0.41904176404968685\n",
            "Epoch 10/10, MSE: 0.411867756560678\n"
          ]
        }
      ],
      "source": [
        "keras.utils.plot_model(model_xception, show_shapes=True)"
      ]
    },
    {
      "cell_type": "code",
      "execution_count": 16,
      "metadata": {
        "colab": {
          "base_uri": "https://localhost:8080/"
        },
        "id": "J2QFJne-Sklw",
        "outputId": "a057db2a-7404-4a4e-e788-51a3d539e263"
      },
      "outputs": [
        {
          "name": "stdout",
          "output_type": "stream",
          "text": [
            "Epoch 1/5, MSE: 0.3153070672736686\n",
            "Epoch 2/5, MSE: 0.24691124105155476\n",
            "Epoch 3/5, MSE: 0.45849052309776034\n",
            "Epoch 4/5, MSE: 0.2693353242689438\n",
            "Epoch 5/5, MSE: 0.23586059689737487\n"
          ]
        }
      ],
      "source": [
        "model_xception.compile(optimizer=Adam(learning_rate = 0.0001),\n",
        "             loss='categorical_crossentropy',\n",
        "             metrics=['categorical_accuracy'])"
      ]
    },
    {
      "cell_type": "code",
      "execution_count": 17,
      "metadata": {
        "colab": {
          "base_uri": "https://localhost:8080/"
        },
        "id": "Yqp0cne69h7y",
        "outputId": "82241718-df9f-4e63-f4b9-d0be89ed0bb3"
      },
      "outputs": [
        {
          "name": "stdout",
          "output_type": "stream",
          "text": [
            "Epoch 1/15, MSE: 0.3153070672736686\n",
            "Epoch 2/15, MSE: 0.24691124105155476\n",
            "Epoch 3/15, MSE: 0.45849052309776034\n",
            "Epoch 4/15, MSE: 0.2693353242689438\n",
            "Epoch 5/15, MSE: 0.23586059689737487\n",
            "Epoch 6/15, MSE: 0.331753607895466\n",
            "Epoch 7/15, MSE: 0.26326105030807745\n",
            "Epoch 8/15, MSE: 0.4093606175834446\n",
            "Epoch 9/15, MSE: 0.27041578267390004\n",
            "Epoch 10/15, MSE: 0.25791161934756557\n",
            "Epoch 11/15, MSE: 0.24095712313545897\n",
            "Epoch 12/15, MSE: 0.41222611060374026\n",
            "Epoch 13/15, MSE: 0.2710864000819326\n",
            "Epoch 14/15, MSE: 0.23621489112103392\n",
            "Epoch 15/15, MSE: 0.263614420353723\n"
          ]
        }
      ],
      "source": [
        "checkpoint_interval = 5 * int(np.ceil(train_data.shape[0]/batch_size))\n",
        "checkpoint_path = r\"drive/MyDrive/brain_mri/Model-Checkpoints/xception\"\n",
        "checkpoint_path = os.path.join(checkpoint_folder,r\"epocch_{epoch:02d}.hdf5\")\n",
        "\n",
        "model_xception_checkpoint_callback = tf.keras.callbacks.ModelCheckpoint(\n",
        "    filepath=checkpoint_path,\n",
        "    save_weights_only=True,\n",
        "    monitor='categorical_accuracy',\n",
        "    verbose=1,\n",
        "    save_freq= checkpoint_interval\n",
        ")"
      ]
    },
    {
      "cell_type": "code",
      "execution_count": 18,
      "metadata": {
        "colab": {
          "base_uri": "https://localhost:8080/"
        },
        "id": "tYkZJKgO9h7y",
        "outputId": "f36bfb88-1811-4b92-9180-09c4a51a2dc4"
      },
      "outputs": [
        {
          "name": "stdout",
          "output_type": "stream",
          "text": [
            "Epoch 1/5, MSE: 0.5159480863977284\n",
            "Epoch 2/5, MSE: 0.47797669584461766\n",
            "Epoch 3/5, MSE: 0.46835955877134494\n",
            "Epoch 4/5, MSE: 0.4593317828875094\n",
            "Epoch 5/5, MSE: 0.4506453467292958\n"
          ]
        }
      ],
      "source": [
        "%%time\n",
        "train_history_xception = model_xception.fit(train_dataset,\n",
        "                            batch_size = batch_size,\n",
        "                            validation_data = val_dataset,\n",
        "                            epochs = 50,\n",
        "                            callbacks = [early_stopping, model_xception_checkpoint_callback])\n",
        "# save the train history\n",
        "with open(os.path.join(checkpoint_folder,'train_history_xception'), 'wb') as file_pi:\n",
        "    pickle.dump(train_history_xception, file_pi)"
      ]
    },
    {
      "cell_type": "code",
      "execution_count": 19,
      "metadata": {
        "colab": {
          "base_uri": "https://localhost:8080/"
        },
        "id": "rv0GE8m89h7y",
        "outputId": "2f61dc8d-4bc3-42bd-b482-b28dbdf37899"
      },
      "outputs": [
        {
          "name": "stdout",
          "output_type": "stream",
          "text": [
            "Epoch 1/15, MSE: 0.5159480863977284\n",
            "Epoch 2/15, MSE: 0.47797669584461766\n",
            "Epoch 3/15, MSE: 0.46835955877134494\n",
            "Epoch 4/15, MSE: 0.4593317828875094\n",
            "Epoch 5/15, MSE: 0.4506453467292958\n",
            "Epoch 6/15, MSE: 0.442285331300939\n",
            "Epoch 7/15, MSE: 0.4342392860427051\n",
            "Epoch 8/15, MSE: 0.4264952595792989\n",
            "Epoch 9/15, MSE: 0.41904176404968685\n",
            "Epoch 10/15, MSE: 0.411867756560678\n",
            "Epoch 11/15, MSE: 0.4049626215324115\n",
            "Epoch 12/15, MSE: 0.3983161537668313\n",
            "Epoch 13/15, MSE: 0.3919185422074028\n",
            "Epoch 14/15, MSE: 0.3857603543608207\n",
            "Epoch 15/15, MSE: 0.3798325213527549\n"
          ]
        }
      ],
      "source": [
        "# load history from previous trained model\n",
        "with open(os.path.join(checkpoint_folder,'train_history_xception'), 'rb') as file_pi:\n",
        "    train_history_xception = pickle.load(file_pi)\n"
      ]
    },
    {
      "cell_type": "code",
      "execution_count": 20,
      "metadata": {
        "colab": {
          "base_uri": "https://localhost:8080/"
        },
        "id": "BJ_0nZg2D_9Y",
        "outputId": "dfed52ce-c38c-4bf5-e450-665610778a73"
      },
      "outputs": [
        {
          "name": "stdout",
          "output_type": "stream",
          "text": [
            "Epoch 1/5, MSE: 0.5333333333333333\n",
            "Epoch 2/5, MSE: 0.3333333333333333\n",
            "Epoch 3/5, MSE: 0.7333333333333333\n",
            "Epoch 4/5, MSE: 0.26666666666666666\n",
            "Epoch 5/5, MSE: 0.26666666666666666\n"
          ]
        }
      ],
      "source": [
        "# create subplots\n",
        "fig, axes = plt.subplots(1, 2, figsize=(14, 6))\n",
        "\n",
        "# plot categorical accuracy and validation accuracy\n",
        "axes[0].grid(True)\n",
        "axes[0].plot(train_history_xception.history['categorical_accuracy'], '.b-', linewidth=2, label='Categorical Accuracy')\n",
        "axes[0].plot(train_history_xception.history['val_categorical_accuracy'], '.r-', linewidth=2, label='Validation Accuracy')\n",
        "axes[0].set_title('Xception Model Training History Accuracy')\n",
        "axes[0].set_xlabel('Epochs')\n",
        "axes[0].set_ylabel('Accuracy')\n",
        "axes[0].set_xticks(range(0,len(train_history_xception.history['categorical_accuracy']),5))\n",
        "axes[0].legend(['Train','Validation'], loc='upper left')\n",
        "\n",
        "# plot Training loss and validation loss\n",
        "axes[1].grid(True)\n",
        "axes[1].plot(train_history_xception.history['loss'], '.b-', label='Training Loss', linewidth=2)\n",
        "axes[1].plot(train_history_xception.history['val_loss'], '.r-', label='Validation Loss', linewidth=2)\n",
        "axes[1].set_title('Xception Model Training and Validation Loss')\n",
        "axes[1].set_xlabel('Epochs')\n",
        "axes[1].set_ylabel('Loss')\n",
        "axes[1].set_xticks(range(0,len(train_history_xception.history['loss']),5))\n",
        "axes[1].legend(['Train','Validation'], loc='upper left')\n",
        "\n",
        "plt.tight_layout()\n",
        "plt.show()"
      ]
    },
    {
      "cell_type": "code",
      "execution_count": 21,
      "metadata": {
        "colab": {
          "base_uri": "https://localhost:8080/"
        },
        "id": "fwHBTHjEEHv7",
        "outputId": "cf76c496-1460-441d-f320-7aa8135c5333"
      },
      "outputs": [
        {
          "name": "stdout",
          "output_type": "stream",
          "text": [
            "Epoch 1/15, MSE: 0.5333333333333333\n",
            "Epoch 2/15, MSE: 0.3333333333333333\n",
            "Epoch 3/15, MSE: 0.7333333333333333\n",
            "Epoch 4/15, MSE: 0.26666666666666666\n",
            "Epoch 5/15, MSE: 0.26666666666666666\n",
            "Epoch 6/15, MSE: 0.6\n",
            "Epoch 7/15, MSE: 0.26666666666666666\n",
            "Epoch 8/15, MSE: 0.26666666666666666\n",
            "Epoch 9/15, MSE: 0.6666666666666666\n",
            "Epoch 10/15, MSE: 0.3333333333333333\n",
            "Epoch 11/15, MSE: 0.26666666666666666\n",
            "Epoch 12/15, MSE: 0.7333333333333333\n",
            "Epoch 13/15, MSE: 0.3333333333333333\n",
            "Epoch 14/15, MSE: 0.26666666666666666\n",
            "Epoch 15/15, MSE: 0.6666666666666666\n"
          ]
        }
      ],
      "source": [
        "test_epoch = '15'\n",
        "weights_path = r\"drive/MyDrive/brain_mri/Model-Checkpoints/xception/epocch_\"+test_epoch+\".hdf5\"\n",
        "model_xception.load_weights(weights_path)"
      ]
    },
    {
      "cell_type": "code",
      "execution_count": null,
      "metadata": {},
      "outputs": [],
      "source": [
        "# Evaluate Xception model on the test set\n",
        "evaluation_results_xception = model_xception.evaluate(test_dataset)\n",
        "\n",
        "# Print the evaluation results\n",
        "print(f'Xception model Test Loss: {evaluation_results_xception[0]}')\n",
        "print(f'Xception model Test Accuracy: {evaluation_results_xception[1]}')\n"
      ]
    },
    {
      "cell_type": "code",
      "execution_count": null,
      "metadata": {},
      "outputs": [],
      "source": [
        "# predict the test data\n",
        "y_pred = model_xception.predict(test_dataset)"
      ]
    },
    {
      "cell_type": "code",
      "execution_count": null,
      "metadata": {},
      "outputs": [],
      "source": [
        "#create confusion matrix for Xception model\n",
        "categories_labels = ['glioma', 'meningioma', 'notumor', 'pituitary']\n",
        "\n",
        "#confusion matrix\n",
        "conf_matrix = confusion_matrix(test_dataset.labels, np.argmax(y_pred, axis=1))\n",
        "conf_matrix_data = np.array(conf_matrix)\n",
        "\n",
        "# plotting the matrix\n",
        "plt.figure(figsize=(8, 6))\n",
        "sns.heatmap(conf_matrix_data, annot=True, cmap='Blues', fmt='g', xticklabels=categories_labels, yticklabels=categories_labels)\n",
        "\n",
        "plt.xlabel('Predicted labels')\n",
        "plt.ylabel('True labels')\n",
        "plt.title('Confusion Matrix of Xception Model')\n",
        "plt.show()"
      ]
    },
    {
      "cell_type": "code",
      "execution_count": null,
      "metadata": {},
      "outputs": [],
      "source": [
        "# print classification report\n",
        "print(classification_report(test_dataset.labels, np.argmax(y_pred, axis=1), target_names=categories_labels))"
      ]
    },
    {
      "cell_type": "markdown",
      "metadata": {
        "id": "Uo8LM5rCSmVo"
      },
      "source": [
        "## Model 4: MobileNet"
      ]
    },
    {
      "cell_type": "code",
      "execution_count": null,
      "metadata": {},
      "outputs": [],
      "source": [
        "model_MobileNet = model_def(MobileNet(input_shape=(image_size,image_size,3), include_top=False, weights='imagenet'))\n",
        "model_MobileNet.summary()\n"
      ]
    },
    {
      "cell_type": "code",
      "execution_count": null,
      "metadata": {},
      "outputs": [],
      "source": [
        "keras.utils.plot_model(model_MobileNet, show_shapes=True)"
      ]
    },
    {
      "cell_type": "code",
      "execution_count": null,
      "metadata": {},
      "outputs": [],
      "source": [
        "model_MobileNet.compile(optimizer=Adam(learning_rate = 0.0001),\n",
        "                loss='categorical_crossentropy',\n",
        "                metrics=['categorical_accuracy'])"
      ]
    },
    {
      "cell_type": "code",
      "execution_count": null,
      "metadata": {},
      "outputs": [],
      "source": [
        "checkpoint_interval = 5 * int(np.ceil(train_data.shape[0]/batch_size))\n",
        "checkpoint_path = r\"drive/MyDrive/brain_mri/Model-Checkpoints/MobileNet\"\n",
        "checkpoint_path = os.path.join(checkpoint_folder,r\"epocch_{epoch:02d}.hdf5\")\n",
        "\n",
        "model_MobileNet_checkpoint_callback = tf.keras.callbacks.ModelCheckpoint(\n",
        "    filepath=checkpoint_path,\n",
        "    save_weights_only=True,\n",
        "    monitor='categorical_accuracy',\n",
        "    verbose=1,\n",
        "    save_freq= checkpoint_interval\n",
        ")\n"
      ]
    },
    {
      "cell_type": "code",
      "execution_count": null,
      "metadata": {},
      "outputs": [],
      "source": [
        "%%time\n",
        "train_history_MobileNet = model_MobileNet.fit(train_dataset,\n",
        "                            batch_size = batch_size,\n",
        "                            validation_data = val_dataset,\n",
        "                            epochs = 50,\n",
        "                            callbacks = [early_stopping, model_MobileNet_checkpoint_callback])\n",
        "\n",
        "\n",
        "# save the train history\n",
        "with open(os.path.join(checkpoint_folder,'train_history_MobileNet'), 'wb') as file_pi:\n",
        "    pickle.dump(train_history_MobileNet, file_pi)"
      ]
    },
    {
      "cell_type": "code",
      "execution_count": null,
      "metadata": {},
      "outputs": [],
      "source": [
        "# load history from previous trained model\n",
        "with open(os.path.join(checkpoint_folder,'train_history_MobileNet'), 'rb') as file_pi:\n",
        "    train_history_MobileNet = pickle.load(file_pi)"
      ]
    },
    {
      "cell_type": "code",
      "execution_count": null,
      "metadata": {},
      "outputs": [],
      "source": [
        "# create subplots\n",
        "fig, axes = plt.subplots(1, 2, figsize=(14, 6))\n",
        "\n",
        "# plot categorical accuracy and validation accuracy\n",
        "axes[0].grid(True)\n",
        "axes[0].plot(train_history_MobileNet.history['categorical_accuracy'], '.b-', linewidth=2, label='Categorical Accuracy')\n",
        "axes[0].plot(train_history_MobileNet.history['val_categorical_accuracy'], '.r-', linewidth=2, label='Validation Accuracy')\n",
        "axes[0].set_title('MobileNet Model Training History Accuracy')\n",
        "axes[0].set_xlabel('Epochs')\n",
        "axes[0].set_ylabel('Accuracy')\n",
        "axes[0].set_xticks(range(0,len(train_history_MobileNet.history['categorical_accuracy']),5))\n",
        "axes[0].legend(['Train','Validation'], loc='upper left')\n",
        "\n",
        "# plot Training loss and validation loss\n",
        "axes[1].grid(True)\n",
        "axes[1].plot(train_history_MobileNet.history['loss'], '.b-', label='Training Loss', linewidth=2)\n",
        "axes[1].plot(train_history_MobileNet.history['val_loss'], '.r-', label='Validation Loss', linewidth=2)\n",
        "axes[1].set_title('MobileNet Model Training and Validation Loss')\n",
        "axes[1].set_xlabel('Epochs')\n",
        "axes[1].set_ylabel('Loss')\n",
        "axes[1].set_xticks(range(0,len(train_history_MobileNet.history['loss']),5))\n",
        "axes[1].legend(['Train','Validation'], loc='upper left')\n",
        "\n",
        "plt.tight_layout()\n",
        "plt.show()"
      ]
    },
    {
      "cell_type": "code",
      "execution_count": null,
      "metadata": {},
      "outputs": [],
      "source": [
        "test_epoch = '15'\n",
        "weights_path = r\"drive/MyDrive/brain_mri/Model-Checkpoints/MobileNet/epocch_\"+test_epoch+\".hdf5\"\n",
        "model_MobileNet.load_weights(weights_path)\n"
      ]
    },
    {
      "cell_type": "code",
      "execution_count": null,
      "metadata": {},
      "outputs": [],
      "source": [
        "# Evaluate MobileNet model on the test set\n",
        "evaluation_results_MobileNet = model_MobileNet.evaluate(test_dataset)\n",
        "\n",
        "# Print the evaluation results\n",
        "print(f'MobileNet model Test Loss: {evaluation_results_MobileNet[0]}')\n",
        "print(f'MobileNet model Test Accuracy: {evaluation_results_MobileNet[1]}')\n"
      ]
    },
    {
      "cell_type": "code",
      "execution_count": null,
      "metadata": {},
      "outputs": [],
      "source": [
        "# predict the test data\n",
        "y_pred = model_MobileNet.predict(test_dataset)"
      ]
    },
    {
      "cell_type": "code",
      "execution_count": null,
      "metadata": {},
      "outputs": [],
      "source": [
        "#create confusion matrix for MobileNet model\n",
        "categories_labels = ['glioma', 'meningioma', 'notumor', 'pituitary']\n",
        "\n",
        "#confusion matrix\n",
        "conf_matrix = confusion_matrix(test_dataset.labels, np.argmax(y_pred, axis=1))\n",
        "conf_matrix_data = np.array(conf_matrix)\n",
        "\n",
        "# plotting the matrix\n",
        "plt.figure(figsize=(8, 6))\n",
        "sns.heatmap(conf_matrix_data, annot=True, cmap='Blues', fmt='g', xticklabels=categories_labels, yticklabels=categories_labels)\n",
        "\n",
        "plt.xlabel('Predicted labels')\n",
        "plt.ylabel('True labels')\n",
        "plt.title('Confusion Matrix of MobileNet Model')\n",
        "plt.show()"
      ]
    },
    {
      "cell_type": "code",
      "execution_count": null,
      "metadata": {},
      "outputs": [],
      "source": [
        "# print classification report\n",
        "print(classification_report(test_dataset.labels, np.argmax(y_pred, axis=1), target_names=categories_labels))\n"
      ]
    },
    {
      "cell_type": "markdown",
      "metadata": {},
      "source": [
        "## Model 5: Inception\n"
      ]
    },
    {
      "cell_type": "code",
      "execution_count": null,
      "metadata": {},
      "outputs": [],
      "source": [
        "model_inception = model_def(inception_v3.InceptionV3(input_shape=(image_size,image_size,3), include_top=False, weights='imagenet'))\n",
        "model_inception.summary()"
      ]
    },
    {
      "cell_type": "code",
      "execution_count": null,
      "metadata": {},
      "outputs": [],
      "source": [
        "keras.utils.plot_model(model_inception, show_shapes=True)"
      ]
    },
    {
      "cell_type": "code",
      "execution_count": null,
      "metadata": {},
      "outputs": [],
      "source": [
        "model_inception.compile(optimizer=Adam(learning_rate = 0.0001),\n",
        "                loss='categorical_crossentropy',\n",
        "                metrics=['categorical_accuracy'])"
      ]
    },
    {
      "cell_type": "code",
      "execution_count": null,
      "metadata": {},
      "outputs": [],
      "source": [
        "checkpoint_interval = 5 * int(np.ceil(train_data.shape[0]/batch_size))\n",
        "checkpoint_path = r\"drive/MyDrive/brain_mri/Model-Checkpoints/inception\"\n",
        "checkpoint_path = os.path.join(checkpoint_folder,r\"epocch_{epoch:02d}.hdf5\")\n",
        "\n",
        "model_inception_checkpoint_callback = tf.keras.callbacks.ModelCheckpoint(\n",
        "    filepath=checkpoint_path,\n",
        "    save_weights_only=True,\n",
        "    monitor='categorical_accuracy',\n",
        "    verbose=1,\n",
        "    save_freq= checkpoint_interval\n",
        ")"
      ]
    },
    {
      "cell_type": "code",
      "execution_count": null,
      "metadata": {},
      "outputs": [],
      "source": [
        "%%time\n",
        "train_history_inception = model_inception.fit(train_dataset,\n",
        "                            batch_size = batch_size,\n",
        "                            validation_data = val_dataset,\n",
        "                            epochs = 50,\n",
        "                            callbacks = [early_stopping, model_inception_checkpoint_callback])\n",
        "\n",
        "# save the train history\n",
        "with open(os.path.join(checkpoint_folder,'train_history_inception'), 'wb') as file_pi:\n",
        "    pickle.dump(train_history_inception, file_pi)"
      ]
    },
    {
      "cell_type": "code",
      "execution_count": null,
      "metadata": {},
      "outputs": [],
      "source": [
        "# load history from previous trained model\n",
        "with open(os.path.join(checkpoint_folder,'train_history_inception'), 'rb') as file_pi:\n",
        "    train_history_inception = pickle.load(file_pi)\n",
        "    "
      ]
    },
    {
      "cell_type": "code",
      "execution_count": null,
      "metadata": {},
      "outputs": [],
      "source": [
        "# create subplots\n",
        "fig, axes = plt.subplots(1, 2, figsize=(14, 6))\n",
        "\n",
        "# plot categorical accuracy and validation accuracy\n",
        "axes[0].grid(True)\n",
        "axes[0].plot(train_history_inception.history['categorical_accuracy'], '.b-', linewidth=2, label='Categorical Accuracy')\n",
        "axes[0].plot(train_history_inception.history['val_categorical_accuracy'], '.r-', linewidth=2, label='Validation Accuracy')\n",
        "axes[0].set_title('InceptionV3 Model Training History Accuracy')\n",
        "axes[0].set_xlabel('Epochs')\n",
        "axes[0].set_ylabel('Accuracy')\n",
        "axes[0].set_xticks(range(0,len(train_history_inception.history['categorical_accuracy']),5))\n",
        "axes[0].legend(['Train','Validation'], loc='upper left')\n",
        "\n",
        "# plot Training loss and validation loss\n",
        "axes[1].grid(True)\n",
        "axes[1].plot(train_history_inception.history['loss'], '.b-', label='Training Loss', linewidth=2)\n",
        "axes[1].plot(train_history_inception.history['val_loss'], '.r-', label='Validation Loss', linewidth=2)\n",
        "axes[1].set_title('InceptionV3 Model Training and Validation Loss')\n",
        "axes[1].set_xlabel('Epochs')\n",
        "axes[1].set_ylabel('Loss')\n",
        "axes[1].set_xticks(range(0,len(train_history_inception.history['loss']),5))\n",
        "axes[1].legend(['Train','Validation'], loc='upper left')\n",
        "\n",
        "plt.tight_layout()\n",
        "plt.show()"
      ]
    },
    {
      "cell_type": "code",
      "execution_count": null,
      "metadata": {},
      "outputs": [],
      "source": [
        "test_epoch = '15'\n",
        "weights_path = r\"drive/MyDrive/brain_mri/Model-Checkpoints/inception/epocch_\"+test_epoch+\".hdf5\"\n",
        "model_inception.load_weights(weights_path)\n"
      ]
    },
    {
      "cell_type": "code",
      "execution_count": null,
      "metadata": {},
      "outputs": [],
      "source": [
        "# evaluate InceptionV3 model on the test set\n",
        "evaluation_results_inception = model_inception.evaluate(test_dataset)\n",
        "\n",
        "# print the evaluation results\n",
        "print(f'InceptionV3 model Test Loss: {evaluation_results_inception[0]}')\n",
        "print(f'InceptionV3 model Test Accuracy: {evaluation_results_inception[1]}')\n"
      ]
    },
    {
      "cell_type": "code",
      "execution_count": null,
      "metadata": {},
      "outputs": [],
      "source": [
        "# predict the test data\n",
        "y_pred = model_inception.predict(test_dataset)\n"
      ]
    },
    {
      "cell_type": "code",
      "execution_count": null,
      "metadata": {},
      "outputs": [],
      "source": [
        "#create confusion matrix for InceptionV3 model\n",
        "categories_labels = ['glioma', 'meningioma', 'notumor', 'pituitary']\n",
        "\n",
        "#confusion matrix\n",
        "conf_matrix = confusion_matrix(test_dataset.labels, np.argmax(y_pred, axis=1))\n",
        "conf_matrix_data = np.array(conf_matrix)\n",
        "\n",
        "# plotting the matrix\n",
        "plt.figure(figsize=(8, 6))\n",
        "sns.heatmap(conf_matrix_data, annot=True, cmap='Blues', fmt='g', xticklabels=categories_labels, yticklabels=categories_labels)\n",
        "\n",
        "plt.xlabel('Predicted labels')\n",
        "plt.ylabel('True labels')\n",
        "plt.title('Confusion Matrix of InceptionV3 Model')\n",
        "plt.show()"
      ]
    },
    {
      "cell_type": "code",
      "execution_count": null,
      "metadata": {},
      "outputs": [],
      "source": [
        "# print classification report\n",
        "print(classification_report(test_dataset.labels, np.argmax(y_pred, axis=1), target_names=categories_labels))"
      ]
    },
    {
      "cell_type": "markdown",
      "metadata": {},
      "source": [
        "## Model 6: DenseNet201"
      ]
    },
    {
      "cell_type": "code",
      "execution_count": null,
      "metadata": {},
      "outputs": [],
      "source": [
        "model_DenseNet = model_def(DenseNet201(input_shape=(image_size,image_size,3), include_top=False, weights='imagenet'))\n",
        "model_DenseNet.summary()"
      ]
    },
    {
      "cell_type": "code",
      "execution_count": null,
      "metadata": {},
      "outputs": [],
      "source": [
        "keras.utils.plot_model(model_DenseNet, show_shapes=True)"
      ]
    },
    {
      "cell_type": "code",
      "execution_count": null,
      "metadata": {},
      "outputs": [],
      "source": [
        "model_DenseNet.compile(optimizer=Adam(learning_rate = 0.0001),\n",
        "                loss='categorical_crossentropy',\n",
        "                metrics=['categorical_accuracy'])\n"
      ]
    },
    {
      "cell_type": "code",
      "execution_count": null,
      "metadata": {},
      "outputs": [],
      "source": [
        "checkpoint_interval = 5 * int(np.ceil(train_data.shape[0]/batch_size))\n",
        "checkpoint_path = r\"drive/MyDrive/brain_mri/Model-Checkpoints/DenseNet\"\n",
        "checkpoint_path = os.path.join(checkpoint_folder,r\"epocch_{epoch:02d}.hdf5\")\n",
        "\n",
        "model_DenseNet_checkpoint_callback = tf.keras.callbacks.ModelCheckpoint(\n",
        "    filepath=checkpoint_path,\n",
        "    save_weights_only=True,\n",
        "    monitor='categorical_accuracy',\n",
        "    verbose=1,\n",
        "    save_freq= checkpoint_interval\n",
        ")\n"
      ]
    },
    {
      "cell_type": "code",
      "execution_count": null,
      "metadata": {},
      "outputs": [],
      "source": [
        "%%time\n",
        "train_history_DenseNet = model_DenseNet.fit(train_dataset,\n",
        "                            batch_size = batch_size,\n",
        "                            validation_data = val_dataset,\n",
        "                            epochs = 50,\n",
        "                            callbacks = [early_stopping, model_DenseNet_checkpoint_callback])\n",
        "\n",
        "# save the train history\n",
        "with open(os.path.join(checkpoint_folder,'train_history_DenseNet'), 'wb') as file_pi:\n",
        "    pickle.dump(train_history_DenseNet, file_pi)"
      ]
    },
    {
      "cell_type": "code",
      "execution_count": null,
      "metadata": {},
      "outputs": [],
      "source": [
        "# load history from previous trained model\n",
        "with open(os.path.join(checkpoint_folder,'train_history_DenseNet'), 'rb') as file_pi:\n",
        "    train_history_DenseNet = pickle.load(file_pi)"
      ]
    },
    {
      "cell_type": "code",
      "execution_count": null,
      "metadata": {},
      "outputs": [],
      "source": [
        "# create subplots\n",
        "fig, axes = plt.subplots(1, 2, figsize=(14, 6))\n",
        "\n",
        "# plot categorical accuracy and validation accuracy\n",
        "axes[0].grid(True)\n",
        "axes[0].plot(train_history_DenseNet.history['categorical_accuracy'], '.b-', linewidth=2, label='Categorical Accuracy')\n",
        "axes[0].plot(train_history_DenseNet.history['val_categorical_accuracy'], '.r-', linewidth=2, label='Validation Accuracy')\n",
        "axes[0].set_title('DenseNet201 Model Training History Accuracy')\n",
        "axes[0].set_xlabel('Epochs')\n",
        "axes[0].set_ylabel('Accuracy')\n",
        "axes[0].set_xticks(range(0,len(train_history_DenseNet.history['categorical_accuracy']),5))\n",
        "axes[0].legend(['Train','Validation'], loc='upper left')\n",
        "\n",
        "# plot Training loss and validation loss\n",
        "axes[1].grid(True)\n",
        "axes[1].plot(train_history_DenseNet.history['loss'], '.b-', label='Training Loss', linewidth=2)\n",
        "axes[1].plot(train_history_DenseNet.history['val_loss'], '.r-', label='Validation Loss', linewidth=2)\n",
        "axes[1].set_title('DenseNet201 Model Training and Validation Loss')\n",
        "axes[1].set_xlabel('Epochs')\n",
        "axes[1].set_ylabel('Loss')\n",
        "axes[1].set_xticks(range(0,len(train_history_DenseNet.history['loss']),5))\n",
        "axes[1].legend(['Train','Validation'], loc='upper left')\n",
        "\n",
        "plt.tight_layout()\n",
        "plt.show()"
      ]
    },
    {
      "cell_type": "code",
      "execution_count": null,
      "metadata": {},
      "outputs": [],
      "source": [
        "test_epoch = '15'\n",
        "weights_path = r\"drive/MyDrive/brain_mri/Model-Checkpoints/DenseNet/epocch_\"+test_epoch+\".hdf5\"\n",
        "model_DenseNet.load_weights(weights_path)\n"
      ]
    },
    {
      "cell_type": "code",
      "execution_count": null,
      "metadata": {},
      "outputs": [],
      "source": [
        "# Evaluate DenseNet201 model on the test set\n",
        "evaluation_results_DenseNet = model_DenseNet.evaluate(test_dataset)\n",
        "\n",
        "# Print the evaluation results\n",
        "print(f'DenseNet201 model Test Loss: {evaluation_results_DenseNet[0]}')\n",
        "print(f'DenseNet201 model Test Accuracy: {evaluation_results_DenseNet[1]}')"
      ]
    },
    {
      "cell_type": "code",
      "execution_count": null,
      "metadata": {},
      "outputs": [],
      "source": [
        "# predict the test data\n",
        "y_pred = model_DenseNet.predict(test_dataset)\n"
      ]
    },
    {
      "cell_type": "code",
      "execution_count": null,
      "metadata": {},
      "outputs": [],
      "source": [
        "#create confusion matrix for DenseNet201 model\n",
        "categories_labels = ['glioma', 'meningioma', 'notumor', 'pituitary']\n",
        "\n",
        "#confusion matrix\n",
        "conf_matrix = confusion_matrix(test_dataset.labels, np.argmax(y_pred, axis=1))\n",
        "conf_matrix_data = np.array(conf_matrix)\n",
        "\n",
        "# plotting the matrix\n",
        "plt.figure(figsize=(8, 6))\n",
        "sns.heatmap(conf_matrix_data, annot=True, cmap='Blues', fmt='g', xticklabels=categories_labels, yticklabels=categories_labels)\n",
        "\n",
        "plt.xlabel('Predicted labels')\n",
        "plt.ylabel('True labels')\n",
        "plt.title('Confusion Matrix of DenseNet201 Model')\n",
        "plt.show()"
      ]
    },
    {
      "cell_type": "code",
      "execution_count": null,
      "metadata": {},
      "outputs": [],
      "source": [
        "# print classification report\n",
        "print(classification_report(test_dataset.labels, np.argmax(y_pred, axis=1), target_names=categories_labels))"
      ]
    },
    {
      "cell_type": "markdown",
      "metadata": {},
      "source": [
        "## Model 7: ResNet50"
      ]
    },
    {
      "cell_type": "code",
      "execution_count": null,
      "metadata": {},
      "outputs": [],
      "source": [
        "model_ResNet = model_def(ResNet50(input_shape=(image_size,image_size,3), include_top=False, weights='imagenet'))\n",
        "model_ResNet.summary()\n"
      ]
    },
    {
      "cell_type": "code",
      "execution_count": null,
      "metadata": {},
      "outputs": [],
      "source": [
        "keras.utils.plot_model(model_ResNet, show_shapes=True)"
      ]
    },
    {
      "cell_type": "code",
      "execution_count": null,
      "metadata": {},
      "outputs": [],
      "source": [
        "model_ResNet.compile(optimizer=Adam(learning_rate = 0.0001),\n",
        "                loss='categorical_crossentropy',\n",
        "                metrics=['categorical_accuracy'])\n"
      ]
    },
    {
      "cell_type": "code",
      "execution_count": null,
      "metadata": {},
      "outputs": [],
      "source": [
        "checkpoint_interval = 5 * int(np.ceil(train_data.shape[0]/batch_size))\n",
        "checkpoint_path = r\"drive/MyDrive/brain_mri/Model-Checkpoints/ResNet\"\n",
        "checkpoint_path = os.path.join(checkpoint_folder,r\"epocch_{epoch:02d}.hdf5\")\n",
        "\n",
        "model_ResNet_checkpoint_callback = tf.keras.callbacks.ModelCheckpoint(\n",
        "    filepath=checkpoint_path,\n",
        "    save_weights_only=True,\n",
        "    monitor='categorical_accuracy',\n",
        "    verbose=1,\n",
        "    save_freq= checkpoint_interval\n",
        ")\n"
      ]
    },
    {
      "cell_type": "code",
      "execution_count": null,
      "metadata": {},
      "outputs": [],
      "source": [
        "%%time\n",
        "train_history_ResNet = model_ResNet.fit(train_dataset,\n",
        "                            batch_size = batch_size,\n",
        "                            validation_data = val_dataset,\n",
        "                            epochs = 50,\n",
        "                            callbacks = [early_stopping, model_ResNet_checkpoint_callback])\n",
        "\n",
        "# save the train history\n",
        "with open(os.path.join(checkpoint_folder,'train_history_ResNet'), 'wb') as file_pi:\n",
        "    pickle.dump(train_history_ResNet, file_pi)"
      ]
    },
    {
      "cell_type": "code",
      "execution_count": null,
      "metadata": {},
      "outputs": [],
      "source": [
        "# load history from previous trained model\n",
        "with open(os.path.join(checkpoint_folder,'train_history_ResNet'), 'rb') as file_pi:\n",
        "    train_history_ResNet = pickle.load(file_pi)"
      ]
    },
    {
      "cell_type": "code",
      "execution_count": null,
      "metadata": {},
      "outputs": [],
      "source": [
        "# create subplots\n",
        "fig, axes = plt.subplots(1, 2, figsize=(14, 6))\n",
        "\n",
        "# plot categorical accuracy and validation accuracy\n",
        "axes[0].grid(True)\n",
        "axes[0].plot(train_history_ResNet.history['categorical_accuracy'], '.b-', linewidth=2, label='Categorical Accuracy')\n",
        "axes[0].plot(train_history_ResNet.history['val_categorical_accuracy'], '.r-', linewidth=2, label='Validation Accuracy')\n",
        "axes[0].set_title('ResNet50 Model Training History Accuracy')\n",
        "axes[0].set_xlabel('Epochs')\n",
        "axes[0].set_ylabel('Accuracy')\n",
        "axes[0].set_xticks(range(0,len(train_history_ResNet.history['categorical_accuracy']),5))\n",
        "axes[0].legend(['Train','Validation'], loc='upper left')\n",
        "\n",
        "# plot Training loss and validation loss\n",
        "axes[1].grid(True)\n",
        "axes[1].plot(train_history_ResNet.history['loss'], '.b-', label='Training Loss', linewidth=2)\n",
        "axes[1].plot(train_history_ResNet.history['val_loss'], '.r-', label='Validation Loss', linewidth=2)\n",
        "axes[1].set_title('ResNet50 Model Training and Validation Loss')\n",
        "axes[1].set_xlabel('Epochs')\n",
        "axes[1].set_ylabel('Loss')\n",
        "axes[1].set_xticks(range(0,len(train_history_ResNet.history['loss']),5))\n",
        "axes[1].legend(['Train','Validation'], loc='upper left')\n",
        "\n",
        "plt.tight_layout()\n",
        "plt.show()"
      ]
    },
    {
      "cell_type": "code",
      "execution_count": null,
      "metadata": {},
      "outputs": [],
      "source": [
        "test_epoch = '15'\n",
        "weights_path = r\"drive/MyDrive/brain_mri/Model-Checkpoints/ResNet/epocch_\"+test_epoch+\".hdf5\"\n",
        "model_ResNet.load_weights(weights_path)\n"
      ]
    },
    {
      "cell_type": "code",
      "execution_count": null,
      "metadata": {},
      "outputs": [],
      "source": [
        "# Evaluate ResNet50 model on the test set\n",
        "evaluation_results_ResNet = model_ResNet.evaluate(test_dataset)\n",
        "\n",
        "# Print the evaluation results\n",
        "print(f'ResNet50 model Test Loss: {evaluation_results_ResNet[0]}')\n",
        "print(f'ResNet50 model Test Accuracy: {evaluation_results_ResNet[1]}')"
      ]
    },
    {
      "cell_type": "code",
      "execution_count": null,
      "metadata": {},
      "outputs": [],
      "source": [
        "# predict the test data\n",
        "y_pred = model_ResNet.predict(test_dataset)"
      ]
    },
    {
      "cell_type": "code",
      "execution_count": null,
      "metadata": {},
      "outputs": [],
      "source": [
        "#create confusion matrix for ResNet50 model\n",
        "categories_labels = ['glioma', 'meningioma', 'notumor', 'pituitary']\n",
        "\n",
        "#confusion matrix\n",
        "conf_matrix = confusion_matrix(test_dataset.labels, np.argmax(y_pred, axis=1))\n",
        "conf_matrix_data = np.array(conf_matrix)\n",
        "\n",
        "# plotting the matrix\n",
        "plt.figure(figsize=(8, 6))\n",
        "sns.heatmap(conf_matrix_data, annot=True, cmap='Blues', fmt='g', xticklabels=categories_labels, yticklabels=categories_labels)\n",
        "\n",
        "plt.xlabel('Predicted labels')\n",
        "plt.ylabel('True labels')\n",
        "plt.title('Confusion Matrix of ResNet50 Model')\n",
        "plt.show()\n"
      ]
    },
    {
      "cell_type": "code",
      "execution_count": null,
      "metadata": {},
      "outputs": [],
      "source": [
        "# print classification report\n",
        "print(classification_report(test_dataset.labels, np.argmax(y_pred, axis=1), target_names=categories_labels))"
      ]
    },
    {
      "cell_type": "markdown",
      "metadata": {
        "id": "BPRobuxLXxZE"
      },
      "source": [
        "## Comparison & Analysis of Models"
      ]
    },
    {
      "cell_type": "code",
      "execution_count": null,
      "metadata": {},
      "outputs": [],
      "source": [
        "categories_labels = ['glioma', 'meningioma', 'notumor', 'pituitary']\n",
        "\n",
        "#confusion matrix for VGG16 model\n",
        "conf_matrix_vgg = confusion_matrix(test_dataset.labels, np.argmax(model_vgg.predict(test_dataset), axis=1))\n",
        "conf_matrix_data_vgg = np.array(conf_matrix_vgg)\n",
        "\n",
        "#confusion matrix for EfficientNetB4 model\n",
        "conf_matrix_efficientnet = confusion_matrix(test_dataset.labels, np.argmax(model_efficientnet.predict(test_dataset), axis=1))\n",
        "conf_matrix_data_efficientnet = np.array(conf_matrix_efficientnet)\n",
        "\n",
        "#confusion matrix for Xception model\n",
        "conf_matrix_xception = confusion_matrix(test_dataset.labels, np.argmax(model_xception.predict(test_dataset), axis=1))\n",
        "conf_matrix_data_xception = np.array(conf_matrix_xception)\n",
        "\n",
        "#confusion matrix for MobileNet model\n",
        "conf_matrix_MobileNet = confusion_matrix(test_dataset.labels, np.argmax(model_MobileNet.predict(test_dataset), axis=1))\n",
        "conf_matrix_data_MobileNet = np.array(conf_matrix_MobileNet)\n",
        "\n",
        "#confusion matrix for InceptionV3 model\n",
        "conf_matrix_inception = confusion_matrix(test_dataset.labels, np.argmax(model_inception.predict(test_dataset), axis=1))\n",
        "conf_matrix_data_inception = np.array(conf_matrix_inception)\n",
        "\n",
        "#confusion matrix for DenseNet201 model\n",
        "conf_matrix_DenseNet = confusion_matrix(test_dataset.labels, np.argmax(model_DenseNet.predict(test_dataset), axis=1))\n",
        "conf_matrix_data_DenseNet = np.array(conf_matrix_DenseNet)\n",
        "\n",
        "#confusion matrix for ResNet50 model\n",
        "conf_matrix_ResNet = confusion_matrix(test_dataset.labels, np.argmax(model_ResNet.predict(test_dataset), axis=1))\n",
        "conf_matrix_data_ResNet = np.array(conf_matrix_ResNet)\n",
        "\n",
        "# plotting the matrix\n",
        "fig, axes = plt.subplots(4, 2, figsize=(18, 24), sharey=True)\n",
        "\n",
        "# VGG16 model\n",
        "sns.heatmap(conf_matrix_data_vgg, annot=True, cmap='Blues', fmt='g', xticklabels=categories_labels, yticklabels=categories_labels, ax=axes[0])\n",
        "axes[0].set_title('Confusion Matrix of VGG16 Model')\n",
        "axes[0].set_xlabel('Predicted labels')\n",
        "axes[0].set_ylabel('True labels')\n",
        "\n",
        "# EfficientNetB4 model\n",
        "sns.heatmap(conf_matrix_data_efficientnet, annot=True, cmap='Blues', fmt='g', xticklabels=categories_labels, yticklabels=categories_labels, ax=axes[1])\n",
        "axes[1].set_title('Confusion Matrix of EfficientNetB4 Model')\n",
        "axes[1].set_xlabel('Predicted labels')\n",
        "axes[1].set_ylabel('True labels')\n",
        "\n",
        "# Xception model\n",
        "sns.heatmap(conf_matrix_data_xception, annot=True, cmap='Blues', fmt='g', xticklabels=categories_labels, yticklabels=categories_labels, ax=axes[2])\n",
        "axes[2].set_title('Confusion Matrix of Xception Model')\n",
        "axes[2].set_xlabel('Predicted labels')\n",
        "axes[2].set_ylabel('True labels')\n",
        "\n",
        "# MobileNet model\n",
        "sns.heatmap(conf_matrix_data_MobileNet, annot=True, cmap='Blues', fmt='g', xticklabels=categories_labels, yticklabels=categories_labels, ax=axes[3])\n",
        "axes[3].set_title('Confusion Matrix of MobileNet Model')\n",
        "axes[3].set_xlabel('Predicted labels')\n",
        "axes[3].set_ylabel('True labels')\n",
        "\n",
        "# InceptionV3 model\n",
        "sns.heatmap(conf_matrix_data_inception, annot=True, cmap='Blues', fmt='g', xticklabels=categories_labels, yticklabels=categories_labels, ax=axes[4])\n",
        "axes[4].set_title('Confusion Matrix of InceptionV3 Model')\n",
        "axes[4].set_xlabel('Predicted labels')\n",
        "axes[4].set_ylabel('True labels')\n",
        "\n",
        "# DenseNet201 model\n",
        "sns.heatmap(conf_matrix_data_DenseNet, annot=True, cmap='Blues', fmt='g', xticklabels=categories_labels, yticklabels=categories_labels, ax=axes[5])\n",
        "axes[5].set_title('Confusion Matrix of DenseNet201 Model')\n",
        "axes[5].set_xlabel('Predicted labels')\n",
        "axes[5].set_ylabel('True labels')\n",
        "\n",
        "# ResNet50 model\n",
        "sns.heatmap(conf_matrix_data_ResNet, annot=True, cmap='Blues', fmt='g', xticklabels=categories_labels, yticklabels=categories_labels, ax=axes[6])\n",
        "axes[6].set_title('Confusion Matrix of ResNet50 Model')\n",
        "axes[6].set_xlabel('Predicted labels')\n",
        "axes[6].set_ylabel('True labels')\n",
        "\n",
        "plt.tight_layout()\n",
        "plt.show()\n",
        "\n"
      ]
    }
  ],
  "metadata": {
    "accelerator": "GPU",
    "colab": {
      "gpuType": "T4",
      "provenance": []
    },
    "kernelspec": {
      "display_name": "Python 3",
      "name": "python3"
    },
    "language_info": {
      "codemirror_mode": {
        "name": "ipython",
        "version": 3
      },
      "file_extension": ".py",
      "mimetype": "text/x-python",
      "name": "python",
      "nbconvert_exporter": "python",
      "pygments_lexer": "ipython3",
      "version": "3.10.0"
    }
  },
  "nbformat": 4,
  "nbformat_minor": 0
}
